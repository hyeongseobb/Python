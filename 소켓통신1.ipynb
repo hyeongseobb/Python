{
 "cells": [
  {
   "cell_type": "code",
   "execution_count": 4,
   "metadata": {},
   "outputs": [],
   "source": [
    "#nc -lk 8040 putty에서 내서버 열기"
   ]
  },
  {
   "cell_type": "code",
   "execution_count": null,
   "metadata": {},
   "outputs": [],
   "source": [
    "host='192.168.110.116'\n",
    "for j in range(0,9999):\n",
    "    for i in range(8023,8050):\n",
    "        try:\n",
    "            mysock=socket.socket(socket.AF_INET, socket.SOCK_STREAM)\n",
    "            addr=(host,i)\n",
    "            mysock.connect(addr)\n",
    "            print(\"try : \" + str(i))\n",
    "        except:\n",
    "            print(\"except : \" + str(i))\n",
    "            continue\n",
    "\n",
    "        try:\n",
    "            msg=b\"----------SEOB------------\\n\"\n",
    "            for i in range (0,10):\n",
    "                mysock.sendall(msg)\n",
    "        except socket.errno as e:\n",
    "            print(\"Socket error \", e)\n",
    "        finally:\n",
    "            mysock.close()"
   ]
  },
  {
   "cell_type": "code",
   "execution_count": null,
   "metadata": {},
   "outputs": [],
   "source": [
    "host='192.168.110.116'\n",
    "mysock=socket.socket(socket.AF_INET, socket.SOCK_STREAM)\n",
    "addr=(host,8000)\n",
    "mysock.connect(addr)\n",
    "\n",
    "try:\n",
    "    msg=b\"This is a test\\n\"\n",
    "    mysock.sendall(msg)\n",
    "except socket.errno as e:\n",
    "    print(\"Socket error \", e)\n",
    "finally:\n",
    "    mysock.close()"
   ]
  }
 ],
 "metadata": {
  "kernelspec": {
   "display_name": "Python 3",
   "language": "python",
   "name": "python3"
  },
  "language_info": {
   "codemirror_mode": {
    "name": "ipython",
    "version": 3
   },
   "file_extension": ".py",
   "mimetype": "text/x-python",
   "name": "python",
   "nbconvert_exporter": "python",
   "pygments_lexer": "ipython3",
   "version": "3.6.4"
  }
 },
 "nbformat": 4,
 "nbformat_minor": 2
}
