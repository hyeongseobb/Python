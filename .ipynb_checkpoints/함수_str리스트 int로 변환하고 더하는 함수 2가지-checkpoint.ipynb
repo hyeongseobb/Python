{
 "cells": [
  {
   "cell_type": "markdown",
   "metadata": {},
   "source": [
    "### 1. for문 사용하지않기"
   ]
  },
  {
   "cell_type": "code",
   "execution_count": null,
   "metadata": {},
   "outputs": [],
   "source": [
    "# def listSum(inputList):\n",
    "#     #1단계 문자열을 int로 형변환\n",
    "#     cvIntValue = map(int,inputList)\n",
    "#     #2단계 형변환한것을 더해준다.\n",
    "#     cvIntValSum = sum(cvIntValue)\n",
    "#     return cvIntValSum"
   ]
  },
  {
   "cell_type": "markdown",
   "metadata": {},
   "source": [
    "### 2. for문 사용하기"
   ]
  },
  {
   "cell_type": "code",
   "execution_count": 12,
   "metadata": {},
   "outputs": [],
   "source": [
    "def listSum(inputList):\n",
    "    #리스트 크기를 알아야함\n",
    "    listSize = len(inputList)\n",
    "    #리스트를 형변환 해주어야함.\n",
    "    i=0\n",
    "    for i in range(i,listSize):\n",
    "        if(i<listSize):\n",
    "            inputList[i] = float(inputList[i])\n",
    "    #형변환 한 것을 더해주어야함.\n",
    "    cvIntValSum = sum(inputList)\n",
    "    return cvIntValSum"
   ]
  },
  {
   "cell_type": "code",
   "execution_count": 13,
   "metadata": {},
   "outputs": [],
   "source": [
    "testList = [\"11.5\",\"1234\",\"222\",\"555\"]"
   ]
  },
  {
   "cell_type": "code",
   "execution_count": 14,
   "metadata": {},
   "outputs": [
    {
     "data": {
      "text/plain": [
       "2022.5"
      ]
     },
     "execution_count": 14,
     "metadata": {},
     "output_type": "execute_result"
    }
   ],
   "source": [
    "listSum(testList)"
   ]
  },
  {
   "cell_type": "code",
   "execution_count": null,
   "metadata": {},
   "outputs": [],
   "source": []
  }
 ],
 "metadata": {
  "kernelspec": {
   "display_name": "Python 3",
   "language": "python",
   "name": "python3"
  },
  "language_info": {
   "codemirror_mode": {
    "name": "ipython",
    "version": 3
   },
   "file_extension": ".py",
   "mimetype": "text/x-python",
   "name": "python",
   "nbconvert_exporter": "python",
   "pygments_lexer": "ipython3",
   "version": "3.6.4"
  }
 },
 "nbformat": 4,
 "nbformat_minor": 2
}
