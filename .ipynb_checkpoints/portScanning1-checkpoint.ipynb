{
 "cells": [
  {
   "cell_type": "code",
   "execution_count": 2,
   "metadata": {},
   "outputs": [
    {
     "ename": "ModuleNotFoundError",
     "evalue": "No module named 'scapy'",
     "output_type": "error",
     "traceback": [
      "\u001b[1;31m---------------------------------------------------------------------------\u001b[0m",
      "\u001b[1;31mModuleNotFoundError\u001b[0m                       Traceback (most recent call last)",
      "\u001b[1;32m<ipython-input-2-1dbb0f154398>\u001b[0m in \u001b[0;36m<module>\u001b[1;34m()\u001b[0m\n\u001b[1;32m----> 1\u001b[1;33m \u001b[1;32mfrom\u001b[0m \u001b[0mscapy\u001b[0m\u001b[1;33m.\u001b[0m\u001b[0mall\u001b[0m \u001b[1;32mimport\u001b[0m \u001b[1;33m*\u001b[0m\u001b[1;33m\u001b[0m\u001b[0m\n\u001b[0m\u001b[0;32m      2\u001b[0m \u001b[1;32mimport\u001b[0m \u001b[0msys\u001b[0m\u001b[1;33m\u001b[0m\u001b[0m\n\u001b[0;32m      3\u001b[0m \u001b[1;33m\u001b[0m\u001b[0m\n\u001b[0;32m      4\u001b[0m \u001b[0mdestIP\u001b[0m\u001b[1;33m=\u001b[0m\u001b[1;34m\"192.168.110.116:8040\"\u001b[0m\u001b[1;33m\u001b[0m\u001b[0m\n\u001b[0;32m      5\u001b[0m \u001b[1;33m\u001b[0m\u001b[0m\n",
      "\u001b[1;31mModuleNotFoundError\u001b[0m: No module named 'scapy'"
     ]
    }
   ],
   "source": [
    "from scapy.all import *\n",
    "import sys\n",
    "\n",
    "destIP=\"192.168.110.116:8040\"\n",
    "\n",
    "def myPortScan(port):\n",
    "    print(\"%d port scanning\" % port)\n",
    "    # sr1(IP(dst=destIP)/TCP(dport=port, flag=\"S\"))\n",
    "    a=report_ports(destIP,port)\n",
    "    print(a)\n",
    "    print(type(a))\n",
    "    if \"open\" in a:\n",
    "        print(\"%d port is open.\" % port)\n",
    "        file.write(\"%d port is open\\n\" % port)\n",
    "        file.write(\"%s\" % a)\n",
    "        file.write(\"\\n\")\n",
    "\n",
    "\n",
    "#report_ports(\"192.168.110.117\",[22,25])\n",
    "#sr1(IP(dst=\"192.168.110.117\")/TCP(dport=(22,25), flags=\"S\"))   \n",
    "#sr1(IP(dst=\"192.168.110.117\")/TCP(dport=[22,25], flags=\"S\"))   \n",
    "\n",
    "file = open(\"result.txt\",\"w\") \n",
    " \n",
    "file.write(\"START PORT SCANNING\") \n",
    "#myPortScan(22)\n",
    "for i in range(1,66535):\n",
    "    myPortScan(i)"
   ]
  }
 ],
 "metadata": {
  "kernelspec": {
   "display_name": "Python 3",
   "language": "python",
   "name": "python3"
  },
  "language_info": {
   "codemirror_mode": {
    "name": "ipython",
    "version": 3
   },
   "file_extension": ".py",
   "mimetype": "text/x-python",
   "name": "python",
   "nbconvert_exporter": "python",
   "pygments_lexer": "ipython3",
   "version": "3.6.4"
  }
 },
 "nbformat": 4,
 "nbformat_minor": 2
}
