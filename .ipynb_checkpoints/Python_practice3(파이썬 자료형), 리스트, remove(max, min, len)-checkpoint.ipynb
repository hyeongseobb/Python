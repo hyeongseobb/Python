{
 "cells": [
  {
   "cell_type": "markdown",
   "metadata": {},
   "source": [
    "### 1. 문자열 연산하기"
   ]
  },
  {
   "cell_type": "code",
   "execution_count": 1,
   "metadata": {},
   "outputs": [],
   "source": [
    "# 문자열도 합치는 것이 가능하다.\n",
    "head = \"fintech\"\n",
    "tail = \"student\"\n",
    "fullstring = head + \"    \" + tail\n",
    "print(fullstring)"
   ]
  },
  {
   "cell_type": "code",
   "execution_count": 2,
   "metadata": {},
   "outputs": [],
   "source": [
    "# 문자열 곱하기\n",
    "star = \"*\"\n",
    "star10 = star*10\n",
    "print(star10)"
   ]
  },
  {
   "cell_type": "code",
   "execution_count": 3,
   "metadata": {},
   "outputs": [
    {
     "name": "stdout",
     "output_type": "stream",
     "text": [
      "2\n",
      "2019\n",
      "0314\n"
     ]
    }
   ],
   "source": [
    "# 문자열 인덱싱 0부터 시작\n",
    "yearweek = \"20190314\"\n",
    "print(yearweek[0]) ## 첫번째 문자열 출력\n",
    "print(yearweek[0:4]) ## 첫번재 문자열 부터 4번째 문자열 전(3번째 문자열)까지 출력\n",
    "print(yearweek[4:]) ## 4번재 문자열부터 끝까지 출력"
   ]
  },
  {
   "cell_type": "markdown",
   "metadata": {},
   "source": [
    "### 2. 문자열 관련 함수"
   ]
  },
  {
   "cell_type": "code",
   "execution_count": 4,
   "metadata": {},
   "outputs": [
    {
     "name": "stdout",
     "output_type": "stream",
     "text": [
      "1\n"
     ]
    }
   ],
   "source": [
    "#문자열 개수세기\n",
    "yearweek = \"2019W28\"\n",
    "print(yearweek.count('W'))"
   ]
  },
  {
   "cell_type": "code",
   "execution_count": 5,
   "metadata": {},
   "outputs": [
    {
     "name": "stdout",
     "output_type": "stream",
     "text": [
      "4\n",
      "['201928']\n"
     ]
    }
   ],
   "source": [
    "#문자열 위치확인\n",
    "print(yearweek.index('W'))\n",
    "delimeter = yearweek.index('W')\n",
    "yearweekNew = yearweek[:delimeter] + yearweek [delimeter+1:]\n",
    "print([yearweekNew])\n",
    "#이외 upper(대문자로 바꿔서 출력), lower(소문자로 바꿔서 출력), replace"
   ]
  },
  {
   "cell_type": "code",
   "execution_count": 6,
   "metadata": {},
   "outputs": [
    {
     "name": "stdout",
     "output_type": "stream",
     "text": [
      "['2019', '28']\n"
     ]
    }
   ],
   "source": [
    "# split 함수\n",
    "splitVar = yearweek.split('W')\n",
    "print(splitVar)"
   ]
  },
  {
   "cell_type": "code",
   "execution_count": 7,
   "metadata": {},
   "outputs": [],
   "source": [
    "# 형변환 (숫자 -> 문자:str(인트 변수))\n",
    "# 형변환 (문자 -> 숫자:int(숫자 변수))\n",
    "numberValue = 1234\n",
    "cvStrValue = str(numberValue)\n",
    "\n",
    "strValue = \"1234\"\n",
    "cvIntValue = int(strValue)"
   ]
  },
  {
   "cell_type": "markdown",
   "metadata": {},
   "source": [
    "### 3. 문자열 실습"
   ]
  },
  {
   "cell_type": "code",
   "execution_count": 8,
   "metadata": {},
   "outputs": [
    {
     "name": "stdout",
     "output_type": "stream",
     "text": [
      "stock_name = SEC\n",
      "date =  20180212\n",
      "value =  250\n"
     ]
    }
   ],
   "source": [
    "# 실습\n",
    "sV = \"SEC 20180212 250\"\n",
    "x = sV.index(' ')\n",
    "y = sV.index(' ',x+1) # 두번째 공백을 인덱스 하기\n",
    "\n",
    "print(\"stock_name =\", sV[0:x])\n",
    "print(\"date =\",sV[x:y])\n",
    "print(\"value =\",sV[y:])"
   ]
  },
  {
   "cell_type": "code",
   "execution_count": 9,
   "metadata": {},
   "outputs": [
    {
     "name": "stdout",
     "output_type": "stream",
     "text": [
      "stock_name = SEC\n",
      "date =  201828\n",
      "value =  250\n"
     ]
    }
   ],
   "source": [
    "#실습2\n",
    "sV2 = \"Sec 2018W28 250\"\n",
    "x = sV2.index(' ')\n",
    "y = sV2.index(' ',x+1)\n",
    "z = sV2.index('W')\n",
    "\n",
    "print(\"stock_name =\", sV2.upper()[0:x])\n",
    "print(\"date =\", sV2[x:z] + sV2[z+1:y])\n",
    "print(\"value =\", sV2[y:])"
   ]
  },
  {
   "cell_type": "markdown",
   "metadata": {},
   "source": [
    "### 4. 리스트 연산하기"
   ]
  },
  {
   "cell_type": "code",
   "execution_count": 10,
   "metadata": {},
   "outputs": [
    {
     "name": "stdout",
     "output_type": "stream",
     "text": [
      "['SEC', 120, 130, [201712, 201713]]\n",
      "120\n",
      "[201712, 201713]\n",
      "201712\n",
      "['SEC', 120, 130]\n"
     ]
    }
   ],
   "source": [
    "# 리스트 연산\n",
    "stockName = [\"SEC\"]\n",
    "priceList = [120,130]\n",
    "dateList = [201712,201713]\n",
    "\n",
    "secinfo = stockName+priceList+[dateList]\n",
    "print(secinfo)\n",
    "\n",
    "# 리스트 인덱싱\n",
    "print(secinfo[1])\n",
    "print(secinfo[3])\n",
    "print(secinfo[3][0])\n",
    "print(secinfo[0:3])"
   ]
  },
  {
   "cell_type": "code",
   "execution_count": 11,
   "metadata": {},
   "outputs": [
    {
     "data": {
      "text/plain": [
       "['250']"
      ]
     },
     "execution_count": 11,
     "metadata": {},
     "output_type": "execute_result"
    }
   ],
   "source": [
    "splitData = sV2.split(\" \")\n",
    "splitData\n",
    "splitData[2:]"
   ]
  },
  {
   "cell_type": "markdown",
   "metadata": {},
   "source": [
    "### 5.리스트 실습"
   ]
  },
  {
   "cell_type": "code",
   "execution_count": 12,
   "metadata": {},
   "outputs": [
    {
     "name": "stdout",
     "output_type": "stream",
     "text": [
      "[120, 150, 300, 500, 1000]\n",
      "414.0\n"
     ]
    }
   ],
   "source": [
    "#실습\n",
    "# remove 함수 사용\n",
    "wow = [120,150,300,500,1000,100,2000]\n",
    "Max = max(wow)\n",
    "Min = min(wow)\n",
    "\n",
    "wow.remove(Max)\n",
    "wow.remove(Min)\n",
    "\n",
    "average = sum(wow)/len(wow) # len은 요소의 개수를 세는 함수\n",
    "\n",
    "print(wow)\n",
    "print(average)"
   ]
  },
  {
   "cell_type": "code",
   "execution_count": 13,
   "metadata": {},
   "outputs": [
    {
     "name": "stdout",
     "output_type": "stream",
     "text": [
      "[120, 150, 300, 500, 1000]\n",
      "414.0\n"
     ]
    }
   ],
   "source": [
    "# del 함수사용\n",
    "wow2 = [120,150,300,500,1000,100,2000]\n",
    "wow2.sort(reverse = False) # False = 오름차순\n",
    "\n",
    "del wow2[0]\n",
    "del wow2[5]\n",
    "\n",
    "average = sum(wow2)/len(wow2) # len은 요소의 개수를 세는 함수\n",
    "\n",
    "print(wow2)\n",
    "print(average)"
   ]
  },
  {
   "cell_type": "code",
   "execution_count": 15,
   "metadata": {},
   "outputs": [
    {
     "name": "stdout",
     "output_type": "stream",
     "text": [
      "[1000, 500, 300, 150, 120]\n",
      "414.0\n"
     ]
    }
   ],
   "source": [
    "wow3 = [120,150,300,500,1000,100,2000]\n",
    "wow3.sort(reverse = True) # True = 내림차순\n",
    "\n",
    "del wow3[len(wow3)-len(wow3)]\n",
    "del wow3[len(wow3)-1]\n",
    "\n",
    "average = sum(wow3)/len(wow3)\n",
    "\n",
    "print(wow3)\n",
    "print(average)"
   ]
  },
  {
   "cell_type": "markdown",
   "metadata": {},
   "source": [
    "### 6. 딕셔너리"
   ]
  },
  {
   "cell_type": "code",
   "execution_count": 18,
   "metadata": {
    "scrolled": false
   },
   "outputs": [
    {
     "name": "stdout",
     "output_type": "stream",
     "text": [
      "{'name': 'sec', 'id': '300000', 'address': 'suwon'}\n",
      "sec\n",
      "{'name': 'sec2', 'id': '300000', 'address': 'suwon', 'stock': 'yes'}\n",
      "yes\n",
      "{'name': 'sec2', 'address': 'suwon', 'stock': 'yes'}\n"
     ]
    }
   ],
   "source": [
    "dic = {\"name\":\"sec\",\"id\":\"300000\",\"address\":\"suwon\"}\n",
    "print(dic)\n",
    "print(dic['name'])\n",
    "\n",
    "# dictional key value 추가/변경\n",
    "dic[\"name\"] = \"sec2\"\n",
    "dic[\"stock\"] = \"yes\"\n",
    "print(dic)\n",
    "print(dic[\"stock\"])\n",
    "\n",
    "# ductuin 요소 삭제하기\n",
    "del dic[\"id\"]\n",
    "print(dic)"
   ]
  },
  {
   "cell_type": "markdown",
   "metadata": {},
   "source": [
    "### 7. 딕셔너리 실습"
   ]
  },
  {
   "cell_type": "code",
   "execution_count": 19,
   "metadata": {
    "scrolled": true
   },
   "outputs": [
    {
     "name": "stdout",
     "output_type": "stream",
     "text": [
      "{'name': 'sec', 'address': 'suwon'}\n"
     ]
    }
   ],
   "source": [
    "dic = {\"name\":\"sec\",\"id\":\"300000\",\"address\":\"suwon\"}\n",
    "del dic [\"id\"]\n",
    "\n",
    "print(dic)"
   ]
  }
 ],
 "metadata": {
  "kernelspec": {
   "display_name": "Python 3",
   "language": "python",
   "name": "python3"
  },
  "language_info": {
   "codemirror_mode": {
    "name": "ipython",
    "version": 3
   },
   "file_extension": ".py",
   "mimetype": "text/x-python",
   "name": "python",
   "nbconvert_exporter": "python",
   "pygments_lexer": "ipython3",
   "version": "3.6.4"
  }
 },
 "nbformat": 4,
 "nbformat_minor": 2
}
