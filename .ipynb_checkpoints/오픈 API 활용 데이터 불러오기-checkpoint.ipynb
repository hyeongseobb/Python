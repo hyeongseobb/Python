{
 "cells": [
  {
   "cell_type": "markdown",
   "metadata": {},
   "source": [
    "### 1. KOSIS 국가통계포털 데이터 불러오기"
   ]
  },
  {
   "cell_type": "code",
   "execution_count": 9,
   "metadata": {},
   "outputs": [],
   "source": [
    "import pandas as pd\n",
    "import requests\n",
    "from pandas.io.json import json_normalize"
   ]
  },
  {
   "cell_type": "code",
   "execution_count": 13,
   "metadata": {},
   "outputs": [
    {
     "data": {
      "text/html": [
       "<div>\n",
       "<style scoped>\n",
       "    .dataframe tbody tr th:only-of-type {\n",
       "        vertical-align: middle;\n",
       "    }\n",
       "\n",
       "    .dataframe tbody tr th {\n",
       "        vertical-align: top;\n",
       "    }\n",
       "\n",
       "    .dataframe thead th {\n",
       "        text-align: right;\n",
       "    }\n",
       "</style>\n",
       "<table border=\"1\" class=\"dataframe\">\n",
       "  <thead>\n",
       "    <tr style=\"text-align: right;\">\n",
       "      <th></th>\n",
       "      <th>C1</th>\n",
       "      <th>C1_NM</th>\n",
       "      <th>C1_NM_ENG</th>\n",
       "      <th>C1_OBJ_NM</th>\n",
       "      <th>C1_OBJ_NM_ENG</th>\n",
       "      <th>C2</th>\n",
       "      <th>C2_NM</th>\n",
       "      <th>C2_NM_ENG</th>\n",
       "      <th>C2_OBJ_NM</th>\n",
       "      <th>C2_OBJ_NM_ENG</th>\n",
       "      <th>...</th>\n",
       "      <th>ITM_ID</th>\n",
       "      <th>ITM_NM</th>\n",
       "      <th>ITM_NM_ENG</th>\n",
       "      <th>ORG_ID</th>\n",
       "      <th>PRD_DE</th>\n",
       "      <th>PRD_SE</th>\n",
       "      <th>TBL_ID</th>\n",
       "      <th>TBL_NM</th>\n",
       "      <th>UNIT_NM</th>\n",
       "      <th>UNIT_NM_ENG</th>\n",
       "    </tr>\n",
       "  </thead>\n",
       "  <tbody>\n",
       "    <tr>\n",
       "      <th>0</th>\n",
       "      <td>0</td>\n",
       "      <td>수주총액</td>\n",
       "      <td>Total amount of orders received</td>\n",
       "      <td>발주자별</td>\n",
       "      <td>By the kind of orderer</td>\n",
       "      <td>0</td>\n",
       "      <td>계</td>\n",
       "      <td>Total</td>\n",
       "      <td>공종별</td>\n",
       "      <td>By the kind of construction works</td>\n",
       "      <td>...</td>\n",
       "      <td>T10</td>\n",
       "      <td>수주액</td>\n",
       "      <td>Value of order received</td>\n",
       "      <td>101</td>\n",
       "      <td>201902</td>\n",
       "      <td>M</td>\n",
       "      <td>DT_1G1B002</td>\n",
       "      <td>발주자/공종별 건설수주액(경상)</td>\n",
       "      <td>백만원</td>\n",
       "      <td>Million Won</td>\n",
       "    </tr>\n",
       "    <tr>\n",
       "      <th>1</th>\n",
       "      <td>0</td>\n",
       "      <td>수주총액</td>\n",
       "      <td>Total amount of orders received</td>\n",
       "      <td>발주자별</td>\n",
       "      <td>By the kind of orderer</td>\n",
       "      <td>1</td>\n",
       "      <td>건축</td>\n",
       "      <td>Building</td>\n",
       "      <td>공종별</td>\n",
       "      <td>By the kind of construction works</td>\n",
       "      <td>...</td>\n",
       "      <td>T10</td>\n",
       "      <td>수주액</td>\n",
       "      <td>Value of order received</td>\n",
       "      <td>101</td>\n",
       "      <td>201902</td>\n",
       "      <td>M</td>\n",
       "      <td>DT_1G1B002</td>\n",
       "      <td>발주자/공종별 건설수주액(경상)</td>\n",
       "      <td>백만원</td>\n",
       "      <td>Million Won</td>\n",
       "    </tr>\n",
       "    <tr>\n",
       "      <th>2</th>\n",
       "      <td>0</td>\n",
       "      <td>수주총액</td>\n",
       "      <td>Total amount of orders received</td>\n",
       "      <td>발주자별</td>\n",
       "      <td>By the kind of orderer</td>\n",
       "      <td>2</td>\n",
       "      <td>토목</td>\n",
       "      <td>Civil engineering</td>\n",
       "      <td>공종별</td>\n",
       "      <td>By the kind of construction works</td>\n",
       "      <td>...</td>\n",
       "      <td>T10</td>\n",
       "      <td>수주액</td>\n",
       "      <td>Value of order received</td>\n",
       "      <td>101</td>\n",
       "      <td>201902</td>\n",
       "      <td>M</td>\n",
       "      <td>DT_1G1B002</td>\n",
       "      <td>발주자/공종별 건설수주액(경상)</td>\n",
       "      <td>백만원</td>\n",
       "      <td>Million Won</td>\n",
       "    </tr>\n",
       "    <tr>\n",
       "      <th>3</th>\n",
       "      <td>1</td>\n",
       "      <td>공공부문</td>\n",
       "      <td>Public sector</td>\n",
       "      <td>발주자별</td>\n",
       "      <td>By the kind of orderer</td>\n",
       "      <td>0</td>\n",
       "      <td>계</td>\n",
       "      <td>Total</td>\n",
       "      <td>공종별</td>\n",
       "      <td>By the kind of construction works</td>\n",
       "      <td>...</td>\n",
       "      <td>T10</td>\n",
       "      <td>수주액</td>\n",
       "      <td>Value of order received</td>\n",
       "      <td>101</td>\n",
       "      <td>201902</td>\n",
       "      <td>M</td>\n",
       "      <td>DT_1G1B002</td>\n",
       "      <td>발주자/공종별 건설수주액(경상)</td>\n",
       "      <td>백만원</td>\n",
       "      <td>Million Won</td>\n",
       "    </tr>\n",
       "    <tr>\n",
       "      <th>4</th>\n",
       "      <td>1</td>\n",
       "      <td>공공부문</td>\n",
       "      <td>Public sector</td>\n",
       "      <td>발주자별</td>\n",
       "      <td>By the kind of orderer</td>\n",
       "      <td>1</td>\n",
       "      <td>건축</td>\n",
       "      <td>Building</td>\n",
       "      <td>공종별</td>\n",
       "      <td>By the kind of construction works</td>\n",
       "      <td>...</td>\n",
       "      <td>T10</td>\n",
       "      <td>수주액</td>\n",
       "      <td>Value of order received</td>\n",
       "      <td>101</td>\n",
       "      <td>201902</td>\n",
       "      <td>M</td>\n",
       "      <td>DT_1G1B002</td>\n",
       "      <td>발주자/공종별 건설수주액(경상)</td>\n",
       "      <td>백만원</td>\n",
       "      <td>Million Won</td>\n",
       "    </tr>\n",
       "  </tbody>\n",
       "</table>\n",
       "<p>5 rows × 21 columns</p>\n",
       "</div>"
      ],
      "text/plain": [
       "  C1 C1_NM                        C1_NM_ENG C1_OBJ_NM           C1_OBJ_NM_ENG  \\\n",
       "0  0  수주총액  Total amount of orders received      발주자별  By the kind of orderer   \n",
       "1  0  수주총액  Total amount of orders received      발주자별  By the kind of orderer   \n",
       "2  0  수주총액  Total amount of orders received      발주자별  By the kind of orderer   \n",
       "3  1  공공부문                    Public sector      발주자별  By the kind of orderer   \n",
       "4  1  공공부문                    Public sector      발주자별  By the kind of orderer   \n",
       "\n",
       "  C2 C2_NM          C2_NM_ENG C2_OBJ_NM                      C2_OBJ_NM_ENG  \\\n",
       "0  0     계              Total       공종별  By the kind of construction works   \n",
       "1  1    건축           Building       공종별  By the kind of construction works   \n",
       "2  2    토목  Civil engineering       공종별  By the kind of construction works   \n",
       "3  0     계              Total       공종별  By the kind of construction works   \n",
       "4  1    건축           Building       공종별  By the kind of construction works   \n",
       "\n",
       "      ...      ITM_ID ITM_NM               ITM_NM_ENG ORG_ID  PRD_DE PRD_SE  \\\n",
       "0     ...         T10    수주액  Value of order received    101  201902      M   \n",
       "1     ...         T10    수주액  Value of order received    101  201902      M   \n",
       "2     ...         T10    수주액  Value of order received    101  201902      M   \n",
       "3     ...         T10    수주액  Value of order received    101  201902      M   \n",
       "4     ...         T10    수주액  Value of order received    101  201902      M   \n",
       "\n",
       "       TBL_ID             TBL_NM UNIT_NM  UNIT_NM_ENG  \n",
       "0  DT_1G1B002  발주자/공종별 건설수주액(경상)     백만원  Million Won  \n",
       "1  DT_1G1B002  발주자/공종별 건설수주액(경상)     백만원  Million Won  \n",
       "2  DT_1G1B002  발주자/공종별 건설수주액(경상)     백만원  Million Won  \n",
       "3  DT_1G1B002  발주자/공종별 건설수주액(경상)     백만원  Million Won  \n",
       "4  DT_1G1B002  발주자/공종별 건설수주액(경상)     백만원  Million Won  \n",
       "\n",
       "[5 rows x 21 columns]"
      ]
     },
     "execution_count": 13,
     "metadata": {},
     "output_type": "execute_result"
    }
   ],
   "source": [
    "# 데이터 접속 주소 입력\n",
    "url = 'http://kosis.kr/openapi/statisticsData.do?method=getList&apiKey=ZjU4ZmIzNGIyYjIzZWRmOTY0NGZlZWEwOTUxYTE1YTM=&format=json&jsonVD=Y&userStatsId=dlgudtjq333/101/DT_1G1B002/2/1/20190417152903&prdSe=M&newEstPrdCnt=1'\n",
    "\n",
    "# 정상 여부 확인 (200 정상)\n",
    "response = requests.get(url)\n",
    "response\n",
    "\n",
    "# JSON 데이터 획득\n",
    "json = response.json()\n",
    "\n",
    "# PandasDataframe 변환\n",
    "df = json_normalize(json)\n",
    "df.head()"
   ]
  },
  {
   "cell_type": "code",
   "execution_count": 17,
   "metadata": {},
   "outputs": [],
   "source": [
    "df.to_csv('./df.csv', encoding = \"ms949\")"
   ]
  },
  {
   "cell_type": "markdown",
   "metadata": {},
   "source": [
    "### 2. 공공데이터 포털  API 데이터 불러오기 (XML)"
   ]
  },
  {
   "cell_type": "code",
   "execution_count": 1,
   "metadata": {},
   "outputs": [],
   "source": [
    "import pandas as pd\n",
    "import urllib.request"
   ]
  },
  {
   "cell_type": "markdown",
   "metadata": {},
   "source": [
    "#### ① url받기 xml타입"
   ]
  },
  {
   "cell_type": "code",
   "execution_count": 4,
   "metadata": {},
   "outputs": [],
   "source": [
    "xmlurl = \"http://openapi.molit.go.kr/OpenAPI_ToolInstallPackage/service/rest/RTMSOBJSvc/getRTMSDataSvcAptTradeDev?serviceKey=AT33s775KYpJOkUBJu0dxkJuUeIfDIOJRzAH084EQS3JN%2BzFjErLHuk%2FGZa9L4gBTSGCzeA69tI9PwLp7B37IQ%3D%3D&pageNo=1&startPage=1&numOfRows=10&pageSize=10&LAWD_CD=11110&DEAL_YMD=201512\""
   ]
  },
  {
   "cell_type": "markdown",
   "metadata": {},
   "source": [
    "#### ② xml 데이터 불러오기"
   ]
  },
  {
   "cell_type": "code",
   "execution_count": 10,
   "metadata": {},
   "outputs": [],
   "source": [
    "request = urllib.request.Request(xmlurl) \n",
    "request.get_method = lambda: 'GET' \n",
    "response_body = urllib.request.urlopen(request).read() \n",
    "fullXmlString = str(response_body, \"utf-8\")"
   ]
  },
  {
   "cell_type": "code",
   "execution_count": 11,
   "metadata": {},
   "outputs": [
    {
     "data": {
      "text/plain": [
       "'<?xml version=\"1.0\" encoding=\"UTF-8\" standalone=\"yes\"?><response><header><resultCode>00</resultCode><resultMsg>NORMAL SERVICE.</resultMsg></header><body><items><item><거래금액>    82,500</거래금액><건축년도>2008</건축년도><년>2015</년><도로명>사직로8길</도로명><도로명건물본번호코드>00004</도로명건물본번호코드><도로명건물부번호코드>00000</도로명건물부번호코드><도로명시군구코드>11110</도로명시군구코드><도로명일련번호코드>03</도로명일련번호코드><도로명지상지하코드>0</도로명지상지하코드><도로명코드>4100135</도로명코드><법정동> 사직동</법정동><법정동본번코드>0009</법정동본번코드><법정동부번코드>0000</법정동부번코드><법정동시군구코드>11110</법정동시군구코드><법정동읍면동코드>11500</법정동읍면동코드><법정동지번코드>1</법정동지번코드><아파트>광화문풍림스페이스본(101동~105동)</아파트><월>12</월><일>1~10</일><일련번호>11110-2203</일련번호><전용면적>94.51</전용면적><지번>9</지번><지역코드>11110</지역코드><층>11</층></item><item><거래금액>    60,000</거래금액><건축년도>1981</건축년도><년>2015</년><도로명>세종대로23길</도로명><도로명건물본번호코드>00047</도로명건물본번호코드><도로명건물부번호코드>00000</도로명건물부번호코드><도로명시군구코드>11110</도로명시군구코드><도로명일련번호코드>02</도로명일련번호코드><도로명지상지하코드>0</도로명지상지하코드><도로명코드>4100190</도로명코드><법정동> 당주동</법정동><법정동본번코드>0145</법정동본번코드><법정동부번코드>0000</법정동부번코드><법정동시군구코드>11110</법정동시군구코드><법정동읍면동코드>11700</법정동읍면동코드><법정동지번코드>1</법정동지번코드><아파트>롯데미도파광화문빌딩</아파트><월>12</월><일>21~31</일><일련번호>11110-12</일련번호><전용면적>149.95</전용면적><지번>145</지번><지역코드>11110</지역코드><층>8</층></item><item><거래금액>   130,000</거래금액><건축년도>2004</건축년도><년>2015</년><도로명>경희궁2길</도로명><도로명건물본번호코드>00005</도로명건물본번호코드><도로명건물부번호코드>00005</도로명건물부번호코드><도로명시군구코드>11110</도로명시군구코드><도로명일련번호코드>01</도로명일련번호코드><도로명지상지하코드>0</도로명지상지하코드><도로명코드>4100005</도로명코드><법정동> 내수동</법정동><법정동본번코드>0110</법정동본번코드><법정동부번코드>0015</법정동부번코드><법정동시군구코드>11110</법정동시군구코드><법정동읍면동코드>11800</법정동읍면동코드><법정동지번코드>1</법정동지번코드><아파트>킹스매너</아파트><월>12</월><일>1~10</일><일련번호>11110-118</일련번호><전용면적>194.43</전용면적><지번>110-15</지번><지역코드>11110</지역코드><층>6</층></item><item><거래금액>   105,000</거래금액><건축년도>2004</건축년도><년>2015</년><도로명>사직로8길</도로명><도로명건물본번호코드>00024</도로명건물본번호코드><도로명건물부번호코드>00000</도로명건물부번호코드><도로명시군구코드>11110</도로명시군구코드><도로명일련번호코드>05</도로명일련번호코드><도로명지상지하코드>0</도로명지상지하코드><도로명코드>4100135</도로명코드><법정동> 내수동</법정동><법정동본번코드>0071</법정동본번코드><법정동부번코드>0000</법정동부번코드><법정동시군구코드>11110</법정동시군구코드><법정동읍면동코드>11800</법정동읍면동코드><법정동지번코드>1</법정동지번코드><아파트>경희궁의아침2단지</아파트><월>12</월><일>11~20</일><일련번호>11110-115</일련번호><전용면적>124.17</전용면적><지번>71</지번><지역코드>11110</지역코드><층>8</층></item><item><거래금액>   120,000</거래금액><건축년도>2003</건축년도><년>2015</년><도로명>사직로8길</도로명><도로명건물본번호코드>00020</도로명건물본번호코드><도로명건물부번호코드>00000</도로명건물부번호코드><도로명시군구코드>11110</도로명시군구코드><도로명일련번호코드>05</도로명일련번호코드><도로명지상지하코드>0</도로명지상지하코드><도로명코드>4100135</도로명코드><법정동> 내수동</법정동><법정동본번코드>0095</법정동본번코드><법정동부번코드>0000</법정동부번코드><법정동시군구코드>11110</법정동시군구코드><법정동읍면동코드>11800</법정동읍면동코드><법정동지번코드>1</법정동지번코드><아파트>경희궁 파크팰리스</아파트><월>12</월><일>21~31</일><일련번호>11110-107</일련번호><전용면적>146.33</전용면적><지번>95</지번><지역코드>11110</지역코드><층>4</층></item><item><거래금액>    17,000</거래금액><건축년도>2014</건축년도><년>2015</년><도로명>대학로</도로명><도로명건물본번호코드>00047</도로명건물본번호코드><도로명건물부번호코드>00000</도로명건물부번호코드><도로명시군구코드>11110</도로명시군구코드><도로명일련번호코드>05</도로명일련번호코드><도로명지상지하코드>0</도로명지상지하코드><도로명코드>3100002</도로명코드><법정동> 연건동</법정동><법정동본번코드>0195</법정동본번코드><법정동부번코드>0010</법정동부번코드><법정동시군구코드>11110</법정동시군구코드><법정동읍면동코드>16600</법정동읍면동코드><법정동지번코드>1</법정동지번코드><아파트>이화에수풀</아파트><월>12</월><일>11~20</일><일련번호>11110-2359</일련번호><전용면적>16.98</전용면적><지번>195-10</지번><지역코드>11110</지역코드><층>8</층></item><item><거래금액>    17,000</거래금액><건축년도>2014</건축년도><년>2015</년><도로명>대학로</도로명><도로명건물본번호코드>00047</도로명건물본번호코드><도로명건물부번호코드>00000</도로명건물부번호코드><도로명시군구코드>11110</도로명시군구코드><도로명일련번호코드>05</도로명일련번호코드><도로명지상지하코드>0</도로명지상지하코드><도로명코드>3100002</도로명코드><법정동> 연건동</법정동><법정동본번코드>0195</법정동본번코드><법정동부번코드>0010</법정동부번코드><법정동시군구코드>11110</법정동시군구코드><법정동읍면동코드>16600</법정동읍면동코드><법정동지번코드>1</법정동지번코드><아파트>이화에수풀</아파트><월>12</월><일>11~20</일><일련번호>11110-2359</일련번호><전용면적>16.98</전용면적><지번>195-10</지번><지역코드>11110</지역코드><층>4</층></item><item><거래금액>    57,000</거래금액><건축년도>2006</건축년도><년>2015</년><도로명>혜화로3가길</도로명><도로명건물본번호코드>00030</도로명건물본번호코드><도로명건물부번호코드>00000</도로명건물부번호코드><도로명시군구코드>11110</도로명시군구코드><도로명일련번호코드>01</도로명일련번호코드><도로명지상지하코드>0</도로명지상지하코드><도로명코드>4100544</도로명코드><법정동> 명륜1가</법정동><법정동본번코드>0019</법정동본번코드><법정동부번코드>0000</법정동부번코드><법정동시군구코드>11110</법정동시군구코드><법정동읍면동코드>17000</법정동읍면동코드><법정동지번코드>1</법정동지번코드><아파트>렉스빌</아파트><월>12</월><일>21~31</일><일련번호>11110-973</일련번호><전용면적>106.98</전용면적><지번>19</지번><지역코드>11110</지역코드><층>3</층></item><item><거래금액>    44,000</거래금액><건축년도>1995</건축년도><년>2015</년><도로명>창경궁로</도로명><도로명건물본번호코드>00265</도로명건물본번호코드><도로명건물부번호코드>00000</도로명건물부번호코드><도로명시군구코드>11110</도로명시군구코드><도로명일련번호코드>07</도로명일련번호코드><도로명지상지하코드>0</도로명지상지하코드><도로명코드>3005008</도로명코드><법정동> 명륜2가</법정동><법정동본번코드>0004</법정동본번코드><법정동부번코드>0000</법정동부번코드><법정동시군구코드>11110</법정동시군구코드><법정동읍면동코드>17100</법정동읍면동코드><법정동지번코드>1</법정동지번코드><아파트>아남1</아파트><월>12</월><일>1~10</일><일련번호>11110-25</일련번호><전용면적>84.8</전용면적><지번>4</지번><지역코드>11110</지역코드><층>18</층></item><item><거래금액>    52,000</거래금액><건축년도>1995</건축년도><년>2015</년><도로명>창경궁로</도로명><도로명건물본번호코드>00265</도로명건물본번호코드><도로명건물부번호코드>00000</도로명건물부번호코드><도로명시군구코드>11110</도로명시군구코드><도로명일련번호코드>07</도로명일련번호코드><도로명지상지하코드>0</도로명지상지하코드><도로명코드>3005008</도로명코드><법정동> 명륜2가</법정동><법정동본번코드>0004</법정동본번코드><법정동부번코드>0000</법정동부번코드><법정동시군구코드>11110</법정동시군구코드><법정동읍면동코드>17100</법정동읍면동코드><법정동지번코드>1</법정동지번코드><아파트>아남1</아파트><월>12</월><일>1~10</일><일련번호>11110-25</일련번호><전용면적>84.9</전용면적><지번>4</지번><지역코드>11110</지역코드><층>12</층></item></items><numOfRows>10</numOfRows><pageNo>1</pageNo><totalCount>49</totalCount></body></response>'"
      ]
     },
     "execution_count": 11,
     "metadata": {},
     "output_type": "execute_result"
    }
   ],
   "source": [
    "fullXmlString"
   ]
  },
  {
   "cell_type": "code",
   "execution_count": 12,
   "metadata": {},
   "outputs": [],
   "source": [
    "import xml.etree.ElementTree as ET\n",
    "from xml.etree.ElementTree import parse, Element\n",
    "# xml 데이터 추출할때 사용하는 라이브러리"
   ]
  },
  {
   "cell_type": "code",
   "execution_count": 14,
   "metadata": {},
   "outputs": [],
   "source": [
    "# 모든 데이터를 담을 리스트 선언\n",
    "result = []\n",
    "# xml 라이브러리 표준\n",
    "root = ET.fromstring(fullXmlString)\n",
    "# body->items->item 모두 선택\n",
    "elements = root.findall('body/items/item')"
   ]
  },
  {
   "cell_type": "code",
   "execution_count": 16,
   "metadata": {},
   "outputs": [
    {
     "data": {
      "text/plain": [
       "'    82,500'"
      ]
     },
     "execution_count": 16,
     "metadata": {},
     "output_type": "execute_result"
    }
   ],
   "source": [
    "elements[0].find('거래금액').text"
   ]
  },
  {
   "cell_type": "code",
   "execution_count": null,
   "metadata": {},
   "outputs": [],
   "source": []
  },
  {
   "cell_type": "code",
   "execution_count": null,
   "metadata": {},
   "outputs": [],
   "source": []
  },
  {
   "cell_type": "code",
   "execution_count": null,
   "metadata": {},
   "outputs": [],
   "source": []
  }
 ],
 "metadata": {
  "kernelspec": {
   "display_name": "Python 3",
   "language": "python",
   "name": "python3"
  },
  "language_info": {
   "codemirror_mode": {
    "name": "ipython",
    "version": 3
   },
   "file_extension": ".py",
   "mimetype": "text/x-python",
   "name": "python",
   "nbconvert_exporter": "python",
   "pygments_lexer": "ipython3",
   "version": "3.6.4"
  }
 },
 "nbformat": 4,
 "nbformat_minor": 2
}
