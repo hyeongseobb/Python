{
 "cells": [
  {
   "cell_type": "code",
   "execution_count": 1,
   "metadata": {},
   "outputs": [],
   "source": [
    "from isoweek import Week\n",
    "\n",
    "def preWeek(inputYearWeek,gapWeek):\n",
    "\n",
    "    currYear = str(inputYearWeek)[0:4]\n",
    "    currWeek = str(inputYearWeek)[4:]\n",
    "    \n",
    "    currYear = int(currYear)\n",
    "    currWeek = int(currWeek)\n",
    "    gapWeek = int(gapWeek)\n",
    "\n",
    "    if(currWeek - gapWeek > 0):\n",
    "        answer = str(int(inputYearWeek) - int(gapWeek))\n",
    "\n",
    "    else:\n",
    "        while(currWeek - gapWeek <= 0):\n",
    "            currYear = currYear - 1\n",
    "            currWeek = currWeek + Week.last_week_of_year(currYear).week\n",
    "        currWeek = currWeek - gapWeek\n",
    "    \n",
    "        if(currWeek < 10):\n",
    "            answer = str(currYear) + \"0\" + str(currWeek)\n",
    "        else:\n",
    "            answer = str(currYear) + str(currWeek)\n",
    "            \n",
    "    return answer"
   ]
  },
  {
   "cell_type": "code",
   "execution_count": 2,
   "metadata": {},
   "outputs": [
    {
     "data": {
      "text/plain": [
       "'201910'"
      ]
     },
     "execution_count": 2,
     "metadata": {},
     "output_type": "execute_result"
    }
   ],
   "source": [
    "preWeek(\"201952\",42)"
   ]
  }
 ],
 "metadata": {
  "kernelspec": {
   "display_name": "Python 3",
   "language": "python",
   "name": "python3"
  },
  "language_info": {
   "codemirror_mode": {
    "name": "ipython",
    "version": 3
   },
   "file_extension": ".py",
   "mimetype": "text/x-python",
   "name": "python",
   "nbconvert_exporter": "python",
   "pygments_lexer": "ipython3",
   "version": "3.6.4"
  }
 },
 "nbformat": 4,
 "nbformat_minor": 2
}
