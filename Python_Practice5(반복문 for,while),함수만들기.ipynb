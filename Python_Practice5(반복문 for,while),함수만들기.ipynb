{
 "cells": [
  {
   "cell_type": "markdown",
   "metadata": {},
   "source": [
    "### 1. for문"
   ]
  },
  {
   "cell_type": "code",
   "execution_count": 1,
   "metadata": {},
   "outputs": [],
   "source": [
    "tvList = ['UN40EN001', 'UN40EN002', 'UN40EN003', 'UN40EN004']"
   ]
  },
  {
   "cell_type": "code",
   "execution_count": 2,
   "metadata": {},
   "outputs": [
    {
     "data": {
      "text/plain": [
       "range(0, 4)"
      ]
     },
     "execution_count": 2,
     "metadata": {},
     "output_type": "execute_result"
    }
   ],
   "source": [
    "range(0,4)"
   ]
  },
  {
   "cell_type": "code",
   "execution_count": 3,
   "metadata": {},
   "outputs": [],
   "source": [
    "preFix = \"LED_TV\""
   ]
  },
  {
   "cell_type": "code",
   "execution_count": 4,
   "metadata": {},
   "outputs": [],
   "source": [
    "for i in range(0,4):  # : -> { ~~ }를 대신함.\n",
    "    tvList[i] = preFix + tvList[i]"
   ]
  },
  {
   "cell_type": "code",
   "execution_count": 5,
   "metadata": {},
   "outputs": [
    {
     "data": {
      "text/plain": [
       "['LED_TVUN40EN001', 'LED_TVUN40EN002', 'LED_TVUN40EN003', 'LED_TVUN40EN004']"
      ]
     },
     "execution_count": 5,
     "metadata": {},
     "output_type": "execute_result"
    }
   ],
   "source": [
    "tvList"
   ]
  },
  {
   "cell_type": "markdown",
   "metadata": {},
   "source": [
    "### 2. while문"
   ]
  },
  {
   "cell_type": "code",
   "execution_count": 6,
   "metadata": {},
   "outputs": [],
   "source": [
    "tvList = ['UN40EN001', 'UN40EN002', 'UN40EN003', 'UN40EN004']"
   ]
  },
  {
   "cell_type": "code",
   "execution_count": 7,
   "metadata": {},
   "outputs": [],
   "source": [
    "preFix = \"LED_TV\""
   ]
  },
  {
   "cell_type": "code",
   "execution_count": 8,
   "metadata": {},
   "outputs": [],
   "source": [
    "i = 0   #while 문에서는 i의 초기값을 정해주어야 한다."
   ]
  },
  {
   "cell_type": "code",
   "execution_count": 9,
   "metadata": {},
   "outputs": [],
   "source": [
    "while(i < 4):    # : -> { ~~ }괄호를 대신함.\n",
    "     tvList[i] = preFix + tvList[i]\n",
    "     i = i + 1  #while 문에서는 i의 증가량을 정해주어야한다."
   ]
  },
  {
   "cell_type": "code",
   "execution_count": 10,
   "metadata": {},
   "outputs": [
    {
     "data": {
      "text/plain": [
       "['LED_TVUN40EN001', 'LED_TVUN40EN002', 'LED_TVUN40EN003', 'LED_TVUN40EN004']"
      ]
     },
     "execution_count": 10,
     "metadata": {},
     "output_type": "execute_result"
    }
   ],
   "source": [
    "tvList"
   ]
  },
  {
   "cell_type": "markdown",
   "metadata": {},
   "source": [
    "### 3. for문 구구단"
   ]
  },
  {
   "cell_type": "code",
   "execution_count": 11,
   "metadata": {},
   "outputs": [
    {
     "name": "stdout",
     "output_type": "stream",
     "text": [
      "2단 시작\n",
      "2 * 1 = 2\n",
      "2 * 2 = 4\n",
      "2 * 3 = 6\n",
      "2 * 4 = 8\n",
      "2 * 5 = 10\n",
      "2 * 6 = 12\n",
      "2 * 7 = 14\n",
      "2 * 8 = 16\n",
      "2 * 9 = 18\n",
      "3단 시작\n",
      "3 * 1 = 3\n",
      "3 * 2 = 6\n",
      "3 * 3 = 9\n",
      "3 * 4 = 12\n",
      "3 * 5 = 15\n",
      "3 * 6 = 18\n",
      "3 * 7 = 21\n",
      "3 * 8 = 24\n",
      "3 * 9 = 27\n"
     ]
    }
   ],
   "source": [
    "for n in range(2,4):  # 2부터 4보다 작을때까지 (2-3)\n",
    "    print(\"{0}단 시작\".format(n))\n",
    "    for i in range(1,10):  #1부터 10보다 작을때까지 (1-9)\n",
    "        print(\"{0} * {1} = {2}\".format(n, i, n*i))"
   ]
  },
  {
   "cell_type": "markdown",
   "metadata": {},
   "source": [
    "### 3. 퀴즈풀이"
   ]
  },
  {
   "cell_type": "code",
   "execution_count": 12,
   "metadata": {},
   "outputs": [],
   "source": [
    "import pandas as pd"
   ]
  },
  {
   "cell_type": "code",
   "execution_count": 13,
   "metadata": {},
   "outputs": [],
   "source": [
    "customerData = pd.read_csv(\"../lee/Python_ST_EX/dataset/kopo_customerdata.csv\")\n",
    "customerTotalList = customerData[\"TOTAL_AMOUNT\"].tolist()"
   ]
  },
  {
   "cell_type": "code",
   "execution_count": 14,
   "metadata": {},
   "outputs": [
    {
     "name": "stdout",
     "output_type": "stream",
     "text": [
      "35218.95312635417\n"
     ]
    }
   ],
   "source": [
    "Max = max(customerTotalList)\n",
    "Min = min(customerTotalList)\n",
    "\n",
    "customerTotalList.remove(Max)\n",
    "customerTotalList.remove(Min)\n",
    "\n",
    "average = sum(customerTotalList)/len(customerTotalList)\n",
    "\n",
    "print(average)"
   ]
  },
  {
   "cell_type": "markdown",
   "metadata": {},
   "source": [
    "### 4. 실습"
   ]
  },
  {
   "cell_type": "code",
   "execution_count": 15,
   "metadata": {},
   "outputs": [],
   "source": [
    "tvList2 = ['UN40EN001', 'LEDTV_UN40EN002', 'LEDTV_LEDTV_UN40EN003', 'UN40EN004']"
   ]
  },
  {
   "cell_type": "code",
   "execution_count": 16,
   "metadata": {},
   "outputs": [],
   "source": [
    "preFix = \"LEDTV_\""
   ]
  },
  {
   "cell_type": "code",
   "execution_count": 17,
   "metadata": {},
   "outputs": [
    {
     "data": {
      "text/plain": [
       "['UN40EN001', 'UN40EN002', 'LEDTV_UN40EN003', 'UN40EN004']"
      ]
     },
     "execution_count": 17,
     "metadata": {},
     "output_type": "execute_result"
    }
   ],
   "source": [
    "i=0\n",
    "tvList2Len = len(tvList2)\n",
    "\n",
    "for i in range(i,tvList2Len):\n",
    "    preFixCnt = tvList2[i].count(preFix)\n",
    "    if(preFixCnt == 0):\n",
    "        tvList2[i] =  tvList2[i]\n",
    "    elif(preFixCnt >= 2):\n",
    "        tvList2[i] = tvList2[i].replace(preFix, \"\")\n",
    "        tvList2[i] = preFix + tvList2[i]\n",
    "    else:\n",
    "        tvList2[i] = tvList2[i].replace(preFix, \"\")\n",
    "tvList2"
   ]
  },
  {
   "cell_type": "markdown",
   "metadata": {},
   "source": [
    "### 5. 실습2"
   ]
  },
  {
   "cell_type": "code",
   "execution_count": 18,
   "metadata": {},
   "outputs": [],
   "source": [
    "tvList3 = ['UN40EN001', 'LEDTV_UN40EN002', 'LEDTV_LEDTV_UN40EN003', 'UN40EN004']"
   ]
  },
  {
   "cell_type": "code",
   "execution_count": 19,
   "metadata": {},
   "outputs": [],
   "source": [
    "preFix = \"LEDTV_\""
   ]
  },
  {
   "cell_type": "code",
   "execution_count": 20,
   "metadata": {},
   "outputs": [
    {
     "data": {
      "text/plain": [
       "['UN40EN001', 'UN40EN002', 'LEDTV_UN40EN003', 'UN40EN004']"
      ]
     },
     "execution_count": 20,
     "metadata": {},
     "output_type": "execute_result"
    }
   ],
   "source": [
    "i=0\n",
    "tvList3Len = len(tvList3)\n",
    "\n",
    "while(i < tvList3Len):\n",
    "    preFixCnt = tvList3[i].count(preFix)\n",
    "    if(preFixCnt == 0):\n",
    "        tvList3[i] = tvList3[i]\n",
    "    elif(preFixCnt == 1):\n",
    "        tvList3[i] = tvList3[i].replace(preFix,\"\")\n",
    "    else:\n",
    "        tvList3[i] = tvList3[i].replace(preFix*preFixCnt,preFix)\n",
    "    i=i+1\n",
    "\n",
    "tvList3"
   ]
  },
  {
   "cell_type": "markdown",
   "metadata": {},
   "source": [
    "### 5-1. 실습3"
   ]
  },
  {
   "cell_type": "code",
   "execution_count": 65,
   "metadata": {},
   "outputs": [],
   "source": [
    "List = ['한국','A02','A01','미국','A03','프랑스']"
   ]
  },
  {
   "cell_type": "code",
   "execution_count": 66,
   "metadata": {},
   "outputs": [],
   "source": [
    "preFix = \"A\""
   ]
  },
  {
   "cell_type": "code",
   "execution_count": 67,
   "metadata": {},
   "outputs": [
    {
     "name": "stdout",
     "output_type": "stream",
     "text": [
      "A02\n",
      "A01\n",
      "A03\n"
     ]
    }
   ],
   "source": [
    "i = 0\n",
    "while(i < len(List)) :\n",
    "    preFixCount = List[i].count(preFix)\n",
    "    if(preFixCount == 1):\n",
    "        print(List[i])\n",
    "    i = i + 1"
   ]
  },
  {
   "cell_type": "code",
   "execution_count": 68,
   "metadata": {},
   "outputs": [
    {
     "name": "stdout",
     "output_type": "stream",
     "text": [
      "한국\n",
      "미국\n",
      "프랑스\n"
     ]
    }
   ],
   "source": [
    "i = 0\n",
    "while(i < len(List)) :\n",
    "    preFixCount = List[i].count(preFix)\n",
    "    if(preFixCount == 0):\n",
    "        print(List[i])\n",
    "    i = i + 1"
   ]
  },
  {
   "cell_type": "markdown",
   "metadata": {},
   "source": [
    "### 5-2. 실습4"
   ]
  },
  {
   "cell_type": "code",
   "execution_count": 25,
   "metadata": {},
   "outputs": [],
   "source": [
    "score = 80"
   ]
  },
  {
   "cell_type": "code",
   "execution_count": 26,
   "metadata": {},
   "outputs": [],
   "source": [
    "if(score >= 90):\n",
    "    grade = \"A\"\n",
    "elif(score >= 80):\n",
    "    grade = \"B\"\n",
    "else:\n",
    "    grade = \"C\""
   ]
  },
  {
   "cell_type": "code",
   "execution_count": 27,
   "metadata": {},
   "outputs": [
    {
     "data": {
      "text/plain": [
       "'B'"
      ]
     },
     "execution_count": 27,
     "metadata": {},
     "output_type": "execute_result"
    }
   ],
   "source": [
    "grade"
   ]
  },
  {
   "cell_type": "markdown",
   "metadata": {},
   "source": [
    "### 6. 파이썬에서 함수만들기"
   ]
  },
  {
   "cell_type": "code",
   "execution_count": 28,
   "metadata": {},
   "outputs": [
    {
     "data": {
      "text/plain": [
       "1.8867924528301887"
      ]
     },
     "execution_count": 28,
     "metadata": {},
     "output_type": "execute_result"
    }
   ],
   "source": [
    "a = 10\n",
    "b = 5.3\n",
    "display2Digit = a/b\n",
    "display2Digit"
   ]
  },
  {
   "cell_type": "code",
   "execution_count": 29,
   "metadata": {},
   "outputs": [],
   "source": [
    "# round2Digit 함수만들기 (속도를 빠르게 할수 있음)\n",
    "def round2Digit(display2Digit,digit):\n",
    "    step1 = display2Digit * (10**digit)\n",
    "    step2 = round(step1)\n",
    "    step3 = step2/(10**digit)\n",
    "    return step3"
   ]
  },
  {
   "cell_type": "code",
   "execution_count": 30,
   "metadata": {},
   "outputs": [],
   "source": [
    "testValue = 1.222233456948949"
   ]
  },
  {
   "cell_type": "code",
   "execution_count": 31,
   "metadata": {},
   "outputs": [
    {
     "data": {
      "text/plain": [
       "1.22223346"
      ]
     },
     "execution_count": 31,
     "metadata": {},
     "output_type": "execute_result"
    }
   ],
   "source": [
    "round2Digit(testValue,8)"
   ]
  },
  {
   "cell_type": "markdown",
   "metadata": {},
   "source": [
    "### 7. 함수 만들기 실습"
   ]
  },
  {
   "cell_type": "code",
   "execution_count": 32,
   "metadata": {},
   "outputs": [],
   "source": [
    "#리스트를 인수로 받아서 최대,최소값을뺀 평균을 구하는 함수 만들기\n",
    "def listMx_MnAverage(listValue):\n",
    "    #1단계 : 리스트에서 최대값 최소값 뽑기\n",
    "    Max= max(listValue)\n",
    "    Min= min(listValue)\n",
    "    #2단계 : 리스트에서 최대값 최소값 제거하기\n",
    "    listValue.remove(Max)\n",
    "    listValue.remove(Min)\n",
    "    #3단계 : 최대,최소값 제거한 리스트에서 평균 구하기\n",
    "    step3 = sum(listValue)/len(listValue) # = average\n",
    "    return step3"
   ]
  },
  {
   "cell_type": "code",
   "execution_count": 33,
   "metadata": {},
   "outputs": [],
   "source": [
    "testList = [1,2,3,4,5,6]"
   ]
  },
  {
   "cell_type": "code",
   "execution_count": 34,
   "metadata": {
    "scrolled": false
   },
   "outputs": [
    {
     "data": {
      "text/plain": [
       "3.5"
      ]
     },
     "execution_count": 34,
     "metadata": {},
     "output_type": "execute_result"
    }
   ],
   "source": [
    "listMx_MnAverage(testList)"
   ]
  }
 ],
 "metadata": {
  "kernelspec": {
   "display_name": "Python 3",
   "language": "python",
   "name": "python3"
  },
  "language_info": {
   "codemirror_mode": {
    "name": "ipython",
    "version": 3
   },
   "file_extension": ".py",
   "mimetype": "text/x-python",
   "name": "python",
   "nbconvert_exporter": "python",
   "pygments_lexer": "ipython3",
   "version": "3.6.4"
  }
 },
 "nbformat": 4,
 "nbformat_minor": 2
}
