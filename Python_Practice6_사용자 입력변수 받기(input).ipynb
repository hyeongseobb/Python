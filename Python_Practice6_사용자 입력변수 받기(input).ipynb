{
 "cells": [
  {
   "cell_type": "code",
   "execution_count": 20,
   "metadata": {
    "scrolled": true
   },
   "outputs": [
    {
     "name": "stdout",
     "output_type": "stream",
     "text": [
      "성함을 입력하세요:이형섭\n",
      "이형섭\n"
     ]
    }
   ],
   "source": [
    "name = input(\"성함을 입력하세요:\")\n",
    "print(name)"
   ]
  },
  {
   "cell_type": "code",
   "execution_count": 21,
   "metadata": {
    "scrolled": true
   },
   "outputs": [
    {
     "name": "stdout",
     "output_type": "stream",
     "text": [
      "성별을 입력하세요:남자\n",
      "남자\n"
     ]
    }
   ],
   "source": [
    "sex = input(\"성별을 입력하세요:\")\n",
    "print(sex)"
   ]
  },
  {
   "cell_type": "code",
   "execution_count": 22,
   "metadata": {},
   "outputs": [],
   "source": [
    "def calculation(inputX,inputY,selectNum):\n",
    "    if(selectNum == \"+\"):\n",
    "        answer = int(inputX) + int(inputY)\n",
    "    elif(selectNum == \"-\"):\n",
    "        answer = int(inputX) - int(inputY)\n",
    "    elif(selectNum == \"*\"):\n",
    "        answer = int(inputX) * int(inputY)\n",
    "    elif(selectNum == \"/\"):\n",
    "        answer = int(inputX) / int(inputY)\n",
    "    return answer"
   ]
  },
  {
   "cell_type": "code",
   "execution_count": 23,
   "metadata": {},
   "outputs": [
    {
     "name": "stdout",
     "output_type": "stream",
     "text": [
      "첫번째 숫자를 입력하세요1818\n",
      "두번째 숫자를 입력하세요15\n"
     ]
    },
    {
     "data": {
      "text/plain": [
       "27270"
      ]
     },
     "execution_count": 23,
     "metadata": {},
     "output_type": "execute_result"
    }
   ],
   "source": [
    "inputX = input(\"첫번째 숫자를 입력하세요\")\n",
    "inputY = input(\"두번째 숫자를 입력하세요\")\n",
    "calculation(inputX,inputY,\"*\")"
   ]
  }
 ],
 "metadata": {
  "kernelspec": {
   "display_name": "Python 3",
   "language": "python",
   "name": "python3"
  },
  "language_info": {
   "codemirror_mode": {
    "name": "ipython",
    "version": 3
   },
   "file_extension": ".py",
   "mimetype": "text/x-python",
   "name": "python",
   "nbconvert_exporter": "python",
   "pygments_lexer": "ipython3",
   "version": "3.6.4"
  }
 },
 "nbformat": 4,
 "nbformat_minor": 2
}
